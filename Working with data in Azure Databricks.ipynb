{
 "cells": [
  {
   "cell_type": "markdown",
   "metadata": {
    "application/vnd.databricks.v1+cell": {
     "inputWidgets": {},
     "nuid": "1251d57e-27e1-4634-b36b-c42dbb5d7851",
     "showTitle": false,
     "title": ""
    }
   },
   "source": [
    "# Working with data in Azure Databricks\n",
    "\n",
    "**Technical Accomplishments:**\n",
    "- viewing available tables\n",
    "- loading table data in dataframes\n",
    "- loading file/dbfs data in dataframes\n",
    "- using spark for simple queries\n",
    "- using spark to show the data and its structure\n",
    "- using spark for complex queries\n",
    "- using Databricks' `display` for custom visualisations"
   ]
  },
  {
   "cell_type": "markdown",
   "metadata": {
    "application/vnd.databricks.v1+cell": {
     "inputWidgets": {},
     "nuid": "add6061e-4799-443a-ba57-9c15b29be04c",
     "showTitle": false,
     "title": ""
    }
   },
   "source": [
    "## Attach notebook to your cluster\n",
    "Before executing any cells in the notebook, you need to attach it to your cluster. Make sure that the cluster is running.\n",
    "\n",
    "In the notebook's toolbar, select the drop down arrow next to Detached, and then select your cluster under Attach to."
   ]
  },
  {
   "cell_type": "markdown",
   "metadata": {
    "application/vnd.databricks.v1+cell": {
     "inputWidgets": {},
     "nuid": "cab873eb-5f8d-4f97-957e-9116f70281af",
     "showTitle": false,
     "title": ""
    }
   },
   "source": [
    "## About Spark DataFrames\n",
    "\n",
    "Spark DataFrames are distributed collections of data, organized into rows and columns, similar to traditional SQL tables.\n",
    "\n",
    "A DataFrame can be operated on using relational transformations, through the Spark SQL API, which is available in Scala, Java, Python, and R.\n",
    "\n",
    "We will use Python in our notebook. \n",
    "\n",
    "We often refer to DataFrame variables using `df`."
   ]
  },
  {
   "cell_type": "markdown",
   "metadata": {
    "application/vnd.databricks.v1+cell": {
     "inputWidgets": {},
     "nuid": "eaa84415-bf78-413a-ac43-a7f773881d39",
     "showTitle": false,
     "title": ""
    }
   },
   "source": [
    "## Loading data into dataframes"
   ]
  },
  {
   "cell_type": "markdown",
   "metadata": {
    "application/vnd.databricks.v1+cell": {
     "inputWidgets": {},
     "nuid": "c3a7b43f-068c-4ba6-aa7c-422375ff7f9b",
     "showTitle": false,
     "title": ""
    }
   },
   "source": [
    "#### View available data\n",
    "\n",
    "To check the data available in our Databricks environment we can use the `%sql` magic and query our tables:"
   ]
  },
  {
   "cell_type": "code",
   "execution_count": null,
   "metadata": {
    "application/vnd.databricks.v1+cell": {
     "inputWidgets": {},
     "nuid": "5ab4f66d-c5b0-4b17-ad7f-3491591bae76",
     "showTitle": false,
     "title": ""
    }
   },
   "outputs": [],
   "source": [
    "%sql\n",
    "\n",
    "select * from nyc_taxi;"
   ]
  },
  {
   "cell_type": "markdown",
   "metadata": {
    "application/vnd.databricks.v1+cell": {
     "inputWidgets": {},
     "nuid": "85aebc48-2700-44a6-a89b-6cc7cadefa3f",
     "showTitle": false,
     "title": ""
    }
   },
   "source": [
    "#### Reading data from our tables\n",
    "\n",
    "Using Spark, we can read data into dataframes. \n",
    "\n",
    "It is important to note that spark has read/write support for a widely set of formats. \n",
    "It can use\n",
    "* csv\n",
    "* json\n",
    "* parquet\n",
    "* orc\n",
    "* avro\n",
    "* hive tables\n",
    "* jdbc\n",
    "\n",
    "We can read our data from the tables (since we already imported the initial csv as Databricks tables)."
   ]
  },
  {
   "cell_type": "code",
   "execution_count": null,
   "metadata": {
    "application/vnd.databricks.v1+cell": {
     "inputWidgets": {},
     "nuid": "013fa30e-ff34-4781-9cdf-224f608bcefb",
     "showTitle": false,
     "title": ""
    }
   },
   "outputs": [],
   "source": [
    "df = spark.sql(\"SELECT * FROM nyc_taxi\")\n",
    "display(df)"
   ]
  },
  {
   "cell_type": "markdown",
   "metadata": {
    "application/vnd.databricks.v1+cell": {
     "inputWidgets": {},
     "nuid": "f4f380fe-44ee-4ccf-9f76-9c705e4f0a2b",
     "showTitle": false,
     "title": ""
    }
   },
   "source": [
    "#### Reading data from the DBFS\n",
    "\n",
    "We can also read the data from the original files we've uploaded; or indeed from any other file available in the DBFS. \n",
    "\n",
    "The code is the same regardless of whether a file is local or in mounted remote storage that was mounted, thanks to DBFS mountpoints"
   ]
  },
  {
   "cell_type": "code",
   "execution_count": null,
   "metadata": {
    "application/vnd.databricks.v1+cell": {
     "inputWidgets": {},
     "nuid": "01ed26d9-adf8-4332-b1c0-1638f8fe6b24",
     "showTitle": false,
     "title": ""
    }
   },
   "outputs": [],
   "source": [
    "df = spark.read.csv('dbfs:/FileStore/tables/nyc_taxi.csv', header=True, inferSchema=True)\n",
    "display(df)"
   ]
  },
  {
   "cell_type": "markdown",
   "metadata": {
    "application/vnd.databricks.v1+cell": {
     "inputWidgets": {},
     "nuid": "e0039425-8d3e-4ce7-bae3-26a34c100f99",
     "showTitle": false,
     "title": ""
    }
   },
   "source": [
    "#### DataFrame size\n",
    "\n",
    "Use `count` to determine how many rows of data we have in a dataframe."
   ]
  },
  {
   "cell_type": "code",
   "execution_count": null,
   "metadata": {
    "application/vnd.databricks.v1+cell": {
     "inputWidgets": {},
     "nuid": "4337e2a0-dfed-47f0-b1fc-960f65bf0b4c",
     "showTitle": false,
     "title": ""
    }
   },
   "outputs": [
    {
     "data": {
      "text/plain": [
       "Out[3]: 11734"
      ]
     },
     "metadata": {
      "application/vnd.databricks.v1+output": {
       "addedWidgets": {},
       "arguments": {},
       "data": "Out[3]: 11734",
       "datasetInfos": [],
       "metadata": {},
       "removedWidgets": [],
       "type": "ansi"
      }
     },
     "output_type": "display_data"
    }
   ],
   "source": [
    "df.count()"
   ]
  },
  {
   "cell_type": "markdown",
   "metadata": {
    "application/vnd.databricks.v1+cell": {
     "inputWidgets": {},
     "nuid": "2da019f1-efa0-442b-b746-3125c05089ac",
     "showTitle": false,
     "title": ""
    }
   },
   "source": [
    "#### DataFrame structure\n",
    "\n",
    "To get information about the schema associated with our dataframe we can use `printSchema`:"
   ]
  },
  {
   "cell_type": "code",
   "execution_count": null,
   "metadata": {
    "application/vnd.databricks.v1+cell": {
     "inputWidgets": {},
     "nuid": "015feeca-d6c2-45e4-a133-f267e05d0c0b",
     "showTitle": false,
     "title": ""
    }
   },
   "outputs": [
    {
     "data": {
      "text/plain": [
       "Out[4]: <bound method DataFrame.printSchema of DataFrame[passengerCount: double, tripDistance: double, hour_of_day: int, day_of_week: int, month_num: int, normalizeHolidayName: string, isPaidTimeOff: boolean, snowDepth: double, precipTime: double, precipDepth: double, temperature: double, totalAmount: double]>"
      ]
     },
     "metadata": {
      "application/vnd.databricks.v1+output": {
       "addedWidgets": {},
       "arguments": {},
       "data": "Out[4]: <bound method DataFrame.printSchema of DataFrame[passengerCount: double, tripDistance: double, hour_of_day: int, day_of_week: int, month_num: int, normalizeHolidayName: string, isPaidTimeOff: boolean, snowDepth: double, precipTime: double, precipDepth: double, temperature: double, totalAmount: double]>",
       "datasetInfos": [],
       "metadata": {},
       "removedWidgets": [],
       "type": "ansi"
      }
     },
     "output_type": "display_data"
    }
   ],
   "source": [
    "df.printSchema"
   ]
  },
  {
   "cell_type": "markdown",
   "metadata": {
    "application/vnd.databricks.v1+cell": {
     "inputWidgets": {},
     "nuid": "f0f5afca-af9a-43c9-8187-3d62a1c63f64",
     "showTitle": false,
     "title": ""
    }
   },
   "source": [
    "### show(..) vs display(..)\n",
    "* `show(..)` is part of core spark - `display(..)` is specific to our notebooks.\n",
    "* `show(..)` has parameters for truncating both columns and rows - `display(..)` does not.\n",
    "* `show(..)` is a function of the `DataFrame`/`Dataset` class - `display(..)` works with a number of different objects.\n",
    "* `display(..)` is more powerful - with it, you can...\n",
    "  * Download the results as CSV\n",
    "  * Render line charts, bar chart & other graphs, maps and more.\n",
    "  * See up to 1000 records at a time.\n",
    "  \n",
    "For the most part, the difference between the two is going to come down to preference.\n",
    "\n",
    "Remember, the `display` function is Databricks specific. It is not available in standard spark code."
   ]
  },
  {
   "cell_type": "markdown",
   "metadata": {
    "application/vnd.databricks.v1+cell": {
     "inputWidgets": {},
     "nuid": "260d9dd7-66a2-4116-88a7-37ec1ca52470",
     "showTitle": false,
     "title": ""
    }
   },
   "source": [
    "## Querying dataframes\n",
    "\n",
    "Once that spark has the data, we can manipulate it using spark SQL API.\n",
    "\n",
    "We can easily use the spark SQL dsl to do joins, aggregations, filtering. \n",
    "We can change the data structure, add or drop columns, or change the column types."
   ]
  },
  {
   "cell_type": "markdown",
   "metadata": {
    "application/vnd.databricks.v1+cell": {
     "inputWidgets": {},
     "nuid": "abc2ffd3-771a-44c3-bb20-9fda7ef8d14c",
     "showTitle": false,
     "title": ""
    }
   },
   "source": [
    "We will use the python function we've already defined to convert Celsius degrees to Fahrenheit degrees."
   ]
  },
  {
   "cell_type": "code",
   "execution_count": null,
   "metadata": {
    "application/vnd.databricks.v1+cell": {
     "inputWidgets": {},
     "nuid": "6344aa6f-f5bf-496f-8c2c-c8c065e02878",
     "showTitle": false,
     "title": ""
    }
   },
   "outputs": [
    {
     "data": {
      "text/plain": [
       "Out[5]: 80.6"
      ]
     },
     "metadata": {
      "application/vnd.databricks.v1+output": {
       "addedWidgets": {},
       "arguments": {},
       "data": "Out[5]: 80.6",
       "datasetInfos": [],
       "metadata": {},
       "removedWidgets": [],
       "type": "ansi"
      }
     },
     "output_type": "display_data"
    }
   ],
   "source": [
    "def celsiusToFahrenheit(source_temp=None):\n",
    "    return(source_temp * (9.0/5.0)) + 32.0\n",
    "  \n",
    "celsiusToFahrenheit(27)"
   ]
  },
  {
   "cell_type": "markdown",
   "metadata": {
    "application/vnd.databricks.v1+cell": {
     "inputWidgets": {},
     "nuid": "051ff7dd-12a8-4279-974b-1f0b8383c386",
     "showTitle": false,
     "title": ""
    }
   },
   "source": [
    "We will adapt it as a udf (user defined function) to make it usable with Spark's dataframes API.\n",
    "\n",
    "And we will use it to enrich our source data."
   ]
  },
  {
   "cell_type": "code",
   "execution_count": null,
   "metadata": {
    "application/vnd.databricks.v1+cell": {
     "inputWidgets": {},
     "nuid": "866c4a22-1c3b-493e-a3fa-f6d850296992",
     "showTitle": false,
     "title": ""
    }
   },
   "outputs": [],
   "source": [
    "from pyspark.sql.functions import isnan, when, count, col\n",
    "from pyspark.sql.types import *\n",
    "\n",
    "udfCelsiusToFahrenheit = udf(lambda z: celsiusToFahrenheit(z), DoubleType())\n",
    "\n",
    "display(df.filter(col('temperature').isNotNull()) \\\n",
    "  .withColumn(\"tempC\", col(\"temperature\").cast(DoubleType())) \\\n",
    "  .select(col(\"tempC\"), udfCelsiusToFahrenheit(col(\"tempC\")).alias(\"tempF\")))\n",
    "  "
   ]
  },
  {
   "cell_type": "markdown",
   "metadata": {
    "application/vnd.databricks.v1+cell": {
     "inputWidgets": {},
     "nuid": "9333102c-590a-4969-b8fe-0b1a6078ee9a",
     "showTitle": false,
     "title": ""
    }
   },
   "source": [
    "More complex SQL functions are available in spark: \n",
    "\n",
    "* grouping, sorting, limits, count\n",
    "* aggregations: agg, max, sum\n",
    "* windowing: partitionBy, count over, max over\n",
    "\n",
    "For example may want to add a row-number column to our source data. Window functions will help with such complex queries:"
   ]
  },
  {
   "cell_type": "code",
   "execution_count": null,
   "metadata": {
    "application/vnd.databricks.v1+cell": {
     "inputWidgets": {},
     "nuid": "b89354d3-8ea9-4cb3-94d8-7a7651248151",
     "showTitle": false,
     "title": ""
    }
   },
   "outputs": [],
   "source": [
    "from pyspark.sql.window import Window\n",
    "from pyspark.sql.functions import desc, row_number, monotonically_increasing_id\n",
    "\n",
    "display(df.orderBy('tripDistance', ascending=False) \\\n",
    "  .withColumn('rowno', row_number().over(Window.orderBy(monotonically_increasing_id()))))"
   ]
  },
  {
   "cell_type": "markdown",
   "metadata": {
    "application/vnd.databricks.v1+cell": {
     "inputWidgets": {},
     "nuid": "bf469f03-457e-4168-aa40-9c5f441ccdc5",
     "showTitle": false,
     "title": ""
    }
   },
   "source": [
    "#### Data cleaning\n",
    "\n",
    "Before using the source data, we have to validate the contents. Let's see if there are any duplicates:"
   ]
  },
  {
   "cell_type": "code",
   "execution_count": null,
   "metadata": {
    "application/vnd.databricks.v1+cell": {
     "inputWidgets": {},
     "nuid": "fe239b3a-4328-4fba-b0ff-3af50ca85869",
     "showTitle": false,
     "title": ""
    }
   },
   "outputs": [
    {
     "data": {
      "text/plain": [
       "Out[8]: 4"
      ]
     },
     "metadata": {
      "application/vnd.databricks.v1+output": {
       "addedWidgets": {},
       "arguments": {},
       "data": "Out[8]: 4",
       "datasetInfos": [],
       "metadata": {},
       "removedWidgets": [],
       "type": "ansi"
      }
     },
     "output_type": "display_data"
    }
   ],
   "source": [
    "df.count() - df.dropDuplicates().count()"
   ]
  },
  {
   "cell_type": "markdown",
   "metadata": {
    "application/vnd.databricks.v1+cell": {
     "inputWidgets": {},
     "nuid": "213cc608-39e3-4e31-bc8d-0f5433c7abab",
     "showTitle": false,
     "title": ""
    }
   },
   "source": [
    "Some columns might be missing. We check the presence of null values for each column."
   ]
  },
  {
   "cell_type": "code",
   "execution_count": null,
   "metadata": {
    "application/vnd.databricks.v1+cell": {
     "inputWidgets": {},
     "nuid": "27d930db-31f8-48da-84b8-2fb9a9270811",
     "showTitle": false,
     "title": ""
    }
   },
   "outputs": [
    {
     "data": {
      "text/html": [
       "<style scoped>\n",
       "  .table-result-container {\n",
       "    max-height: 300px;\n",
       "    overflow: auto;\n",
       "  }\n",
       "  table, th, td {\n",
       "    border: 1px solid black;\n",
       "    border-collapse: collapse;\n",
       "  }\n",
       "  th, td {\n",
       "    padding: 5px;\n",
       "  }\n",
       "  th {\n",
       "    text-align: left;\n",
       "  }\n",
       "</style><div class='table-result-container'><table class='table-result'><thead style='background-color: white'><tr><th>passengerCount</th><th>tripDistance</th><th>hour_of_day</th><th>day_of_week</th><th>month_num</th><th>normalizeHolidayName</th><th>isPaidTimeOff</th><th>snowDepth</th><th>precipTime</th><th>precipDepth</th><th>temperature</th><th>totalAmount</th></tr></thead><tbody><tr><td>587</td><td>0</td><td>0</td><td>0</td><td>0</td><td>0</td><td>0</td><td>0</td><td>0</td><td>0</td><td>0</td><td>117</td></tr></tbody></table></div>"
      ]
     },
     "metadata": {
      "application/vnd.databricks.v1+output": {
       "addedWidgets": {},
       "aggData": [],
       "aggError": "",
       "aggOverflow": false,
       "aggSchema": [],
       "aggSeriesLimitReached": false,
       "aggType": "",
       "arguments": {},
       "columnCustomDisplayInfos": {},
       "data": [
        [
         587,
         0,
         0,
         0,
         0,
         0,
         0,
         0,
         0,
         0,
         0,
         117
        ]
       ],
       "datasetInfos": [],
       "dbfsResultPath": null,
       "isJsonSchema": true,
       "metadata": {},
       "overflow": false,
       "plotOptions": {
        "customPlotOptions": {},
        "displayType": "table",
        "pivotAggregation": null,
        "pivotColumns": null,
        "xColumns": null,
        "yColumns": null
       },
       "removedWidgets": [],
       "schema": [
        {
         "metadata": "{}",
         "name": "passengerCount",
         "type": "\"long\""
        },
        {
         "metadata": "{}",
         "name": "tripDistance",
         "type": "\"long\""
        },
        {
         "metadata": "{}",
         "name": "hour_of_day",
         "type": "\"long\""
        },
        {
         "metadata": "{}",
         "name": "day_of_week",
         "type": "\"long\""
        },
        {
         "metadata": "{}",
         "name": "month_num",
         "type": "\"long\""
        },
        {
         "metadata": "{}",
         "name": "normalizeHolidayName",
         "type": "\"long\""
        },
        {
         "metadata": "{}",
         "name": "isPaidTimeOff",
         "type": "\"long\""
        },
        {
         "metadata": "{}",
         "name": "snowDepth",
         "type": "\"long\""
        },
        {
         "metadata": "{}",
         "name": "precipTime",
         "type": "\"long\""
        },
        {
         "metadata": "{}",
         "name": "precipDepth",
         "type": "\"long\""
        },
        {
         "metadata": "{}",
         "name": "temperature",
         "type": "\"long\""
        },
        {
         "metadata": "{}",
         "name": "totalAmount",
         "type": "\"long\""
        }
       ],
       "type": "table"
      }
     },
     "output_type": "display_data"
    }
   ],
   "source": [
    "display(df.select([count(when(col(c).isNull(), c)).alias(c) for c in df.columns]))"
   ]
  },
  {
   "cell_type": "markdown",
   "metadata": {
    "application/vnd.databricks.v1+cell": {
     "inputWidgets": {},
     "nuid": "8712d072-5081-4cd5-ad64-af1f18903abf",
     "showTitle": false,
     "title": ""
    }
   },
   "source": [
    "Since some of our columns seem to have such null values, we'll have to fix these rows.\n",
    "\n",
    "We could either replace null values using `fillna` or ignore such rows using `dropna`"
   ]
  },
  {
   "cell_type": "code",
   "execution_count": null,
   "metadata": {
    "application/vnd.databricks.v1+cell": {
     "inputWidgets": {},
     "nuid": "410d813a-baea-4285-b034-a27fac8c3ada",
     "showTitle": false,
     "title": ""
    }
   },
   "outputs": [],
   "source": [
    "df = df.fillna({'passengerCount':'1'}).dropna()\n",
    "display(df)"
   ]
  },
  {
   "cell_type": "markdown",
   "metadata": {
    "application/vnd.databricks.v1+cell": {
     "inputWidgets": {},
     "nuid": "9e9a8aa4-c2fe-41c7-ac2c-713f88191ead",
     "showTitle": false,
     "title": ""
    }
   },
   "source": [
    "#### Explore Summary Statistics and Data Distribution\n",
    "Predictive modeling is based on statistics and probability, so we should take a look at the summary statistics for the columns in our data. The **describe** function returns a dataframe containing the **count**, **mean**, **standard deviation**, **minimum**, and **maximum** values for each numeric column."
   ]
  },
  {
   "cell_type": "code",
   "execution_count": null,
   "metadata": {
    "application/vnd.databricks.v1+cell": {
     "inputWidgets": {},
     "nuid": "0eb64e4e-f7c2-4c63-a574-b07653cdb800",
     "showTitle": false,
     "title": ""
    }
   },
   "outputs": [
    {
     "data": {
      "text/html": [
       "<style scoped>\n",
       "  .table-result-container {\n",
       "    max-height: 300px;\n",
       "    overflow: auto;\n",
       "  }\n",
       "  table, th, td {\n",
       "    border: 1px solid black;\n",
       "    border-collapse: collapse;\n",
       "  }\n",
       "  th, td {\n",
       "    padding: 5px;\n",
       "  }\n",
       "  th {\n",
       "    text-align: left;\n",
       "  }\n",
       "</style><div class='table-result-container'><table class='table-result'><thead style='background-color: white'><tr><th>summary</th><th>passengerCount</th><th>tripDistance</th><th>hour_of_day</th><th>day_of_week</th><th>month_num</th><th>normalizeHolidayName</th><th>snowDepth</th><th>precipTime</th><th>precipDepth</th><th>temperature</th><th>totalAmount</th></tr></thead><tbody><tr><td>count</td><td>11617</td><td>11617</td><td>11617</td><td>11617</td><td>11617</td><td>11617</td><td>11617</td><td>11617</td><td>11617</td><td>11617</td><td>11617</td></tr><tr><td>mean</td><td>1.32994749074632</td><td>2.86314539037617</td><td>13.634242919858828</td><td>3.2207971076870106</td><td>3.503055866402686</td><td>null</td><td>1.594342123854158</td><td>12.02143410519067</td><td>191.46208143238357</td><td>10.318198223395576</td><td>14.724533872771847</td></tr><tr><td>stddev</td><td>0.9905854727655304</td><td>2.8995739877114945</td><td>6.668682319466743</td><td>1.9629105573867032</td><td>1.707677463883683</td><td>null</td><td>7.084436666546873</td><td>10.157326735285837</td><td>1213.6354936137388</td><td>8.497340521033312</td><td>10.96651683941929</td></tr><tr><td>min</td><td>1.0</td><td>0.01</td><td>0</td><td>0</td><td>1</td><td>Martin Luther King, Jr. Day</td><td>0.0</td><td>1.0</td><td>0.0</td><td>-13.379464285714295</td><td>3.3</td></tr><tr><td>max</td><td>6.0</td><td>62.55</td><td>23</td><td>6</td><td>6</td><td>Washington's Birthday</td><td>67.0909090909091</td><td>24.0</td><td>9999.0</td><td>26.524107142857126</td><td>339.38</td></tr></tbody></table></div>"
      ]
     },
     "metadata": {
      "application/vnd.databricks.v1+output": {
       "addedWidgets": {},
       "aggData": [],
       "aggError": "",
       "aggOverflow": false,
       "aggSchema": [],
       "aggSeriesLimitReached": false,
       "aggType": "",
       "arguments": {},
       "columnCustomDisplayInfos": {},
       "data": [
        [
         "count",
         "11617",
         "11617",
         "11617",
         "11617",
         "11617",
         "11617",
         "11617",
         "11617",
         "11617",
         "11617",
         "11617"
        ],
        [
         "mean",
         "1.32994749074632",
         "2.86314539037617",
         "13.634242919858828",
         "3.2207971076870106",
         "3.503055866402686",
         null,
         "1.594342123854158",
         "12.02143410519067",
         "191.46208143238357",
         "10.318198223395576",
         "14.724533872771847"
        ],
        [
         "stddev",
         "0.9905854727655304",
         "2.8995739877114945",
         "6.668682319466743",
         "1.9629105573867032",
         "1.707677463883683",
         null,
         "7.084436666546873",
         "10.157326735285837",
         "1213.6354936137388",
         "8.497340521033312",
         "10.96651683941929"
        ],
        [
         "min",
         "1.0",
         "0.01",
         "0",
         "0",
         "1",
         "Martin Luther King, Jr. Day",
         "0.0",
         "1.0",
         "0.0",
         "-13.379464285714295",
         "3.3"
        ],
        [
         "max",
         "6.0",
         "62.55",
         "23",
         "6",
         "6",
         "Washington's Birthday",
         "67.0909090909091",
         "24.0",
         "9999.0",
         "26.524107142857126",
         "339.38"
        ]
       ],
       "datasetInfos": [],
       "dbfsResultPath": null,
       "isJsonSchema": true,
       "metadata": {},
       "overflow": false,
       "plotOptions": {
        "customPlotOptions": {},
        "displayType": "table",
        "pivotAggregation": null,
        "pivotColumns": null,
        "xColumns": null,
        "yColumns": null
       },
       "removedWidgets": [],
       "schema": [
        {
         "metadata": "{}",
         "name": "summary",
         "type": "\"string\""
        },
        {
         "metadata": "{}",
         "name": "passengerCount",
         "type": "\"string\""
        },
        {
         "metadata": "{}",
         "name": "tripDistance",
         "type": "\"string\""
        },
        {
         "metadata": "{}",
         "name": "hour_of_day",
         "type": "\"string\""
        },
        {
         "metadata": "{}",
         "name": "day_of_week",
         "type": "\"string\""
        },
        {
         "metadata": "{}",
         "name": "month_num",
         "type": "\"string\""
        },
        {
         "metadata": "{}",
         "name": "normalizeHolidayName",
         "type": "\"string\""
        },
        {
         "metadata": "{}",
         "name": "snowDepth",
         "type": "\"string\""
        },
        {
         "metadata": "{}",
         "name": "precipTime",
         "type": "\"string\""
        },
        {
         "metadata": "{}",
         "name": "precipDepth",
         "type": "\"string\""
        },
        {
         "metadata": "{}",
         "name": "temperature",
         "type": "\"string\""
        },
        {
         "metadata": "{}",
         "name": "totalAmount",
         "type": "\"string\""
        }
       ],
       "type": "table"
      }
     },
     "output_type": "display_data"
    }
   ],
   "source": [
    "display(df.describe())\n"
   ]
  },
  {
   "cell_type": "markdown",
   "metadata": {
    "application/vnd.databricks.v1+cell": {
     "inputWidgets": {},
     "nuid": "33618a44-1edd-420c-85d2-b8c1f42c0629",
     "showTitle": false,
     "title": ""
    }
   },
   "source": [
    "## Visualizing data\n",
    "\n",
    "Azure Databricks has custom support for displaying data. \n",
    "\n",
    "The `display(..)` command has multiple capabilities:\n",
    "* Presents up to 1000 records.\n",
    "* Exporting data as CSV.\n",
    "* Rendering a multitude of different graphs.\n",
    "* Rendering geo-located data on a world map."
   ]
  },
  {
   "cell_type": "markdown",
   "metadata": {
    "application/vnd.databricks.v1+cell": {
     "inputWidgets": {},
     "nuid": "ee2eec6e-1394-4b68-ba9e-b8e7dc0068ca",
     "showTitle": false,
     "title": ""
    }
   },
   "source": [
    "Let's take a look at our data using databricks visualizations:\n",
    "* Run the cell below\n",
    "* click on the second icon underneath the executed cell and choose `Bar`\n",
    "* click on the `Plot Options` button to configure the graph\n",
    "  * drag the `tripDistance` into the `Keys` list\n",
    "  * drag the `totalAmount` into the `Values` list\n",
    "  * choose `Aggregation` as `AVG`\n",
    "  * click `Apply`"
   ]
  },
  {
   "cell_type": "code",
   "execution_count": null,
   "metadata": {
    "application/vnd.databricks.v1+cell": {
     "inputWidgets": {},
     "nuid": "46da3576-ccf4-4a93-add4-97b22a00ac7b",
     "showTitle": false,
     "title": ""
    }
   },
   "outputs": [],
   "source": [
    "dfClean = df.select(col(\"tripDistance\"), col(\"totalAmount\")).dropna()\n",
    "\n",
    "display(dfClean)"
   ]
  },
  {
   "cell_type": "markdown",
   "metadata": {
    "application/vnd.databricks.v1+cell": {
     "inputWidgets": {},
     "nuid": "26731fa5-c8bd-4959-9b20-58ac4ec83c94",
     "showTitle": false,
     "title": ""
    }
   },
   "source": [
    "Note that the points form a diagonal line, which indicates a strong linear relationship between the trip distance and the total amount. This linear relationship shows a correlation between these two values, which we can measure statistically. \n",
    "\n",
    "The `corr` function calculates a correlation value between -1 and 1, indicating the strength of correlation between two fields. A strong positive correlation (near 1) indicates that high values for one column are often found with high values for the other, which a strong negative correlation (near -1) indicates that low values for one column are often found with high values for the other. A correlation near 0 indicates little apparent relationship between the fields."
   ]
  },
  {
   "cell_type": "code",
   "execution_count": null,
   "metadata": {
    "application/vnd.databricks.v1+cell": {
     "inputWidgets": {},
     "nuid": "4673550d-1abd-4ac6-8f9d-8b93e5bcf58c",
     "showTitle": false,
     "title": ""
    }
   },
   "outputs": [
    {
     "data": {
      "text/plain": [
       "Out[13]: 0.9124610104806419"
      ]
     },
     "metadata": {
      "application/vnd.databricks.v1+output": {
       "addedWidgets": {},
       "arguments": {},
       "data": "Out[13]: 0.9124610104806419",
       "datasetInfos": [],
       "metadata": {},
       "removedWidgets": [],
       "type": "ansi"
      }
     },
     "output_type": "display_data"
    }
   ],
   "source": [
    "dfClean.corr('tripDistance', 'totalAmount')"
   ]
  },
  {
   "cell_type": "markdown",
   "metadata": {
    "application/vnd.databricks.v1+cell": {
     "inputWidgets": {},
     "nuid": "44f87c83-c407-465b-bf15-4689119a934d",
     "showTitle": false,
     "title": ""
    }
   },
   "source": [
    "Predictive modeling is largely based on statistical relationships between fields in the data. To design a good model, you need to understand how the data points relate to one another.\n",
    "\n",
    "A common way to start exploring relationships is to create visualizations that compare two or more data values. For example, modify the Plot Options of the chart above to compare the arrival delays for each carrier:\n",
    "\n",
    "* Keys: temperature\n",
    "* Series Groupings: month_num\n",
    "* Values: snowDeprh\n",
    "* Aggregation: avg\n",
    "* Display Type: Line Chart"
   ]
  },
  {
   "cell_type": "code",
   "execution_count": null,
   "metadata": {
    "application/vnd.databricks.v1+cell": {
     "inputWidgets": {},
     "nuid": "5e7ba532-8060-47b6-be2e-e553c178e81f",
     "showTitle": false,
     "title": ""
    }
   },
   "outputs": [],
   "source": [
    "display(df)"
   ]
  },
  {
   "cell_type": "markdown",
   "metadata": {
    "application/vnd.databricks.v1+cell": {
     "inputWidgets": {},
     "nuid": "4c749a4a-2d84-4b6b-b8bf-05c2e780c3c3",
     "showTitle": false,
     "title": ""
    }
   },
   "source": [
    "The plot now shows the relation between the month, the snow amount and the recorded temperature."
   ]
  }
 ],
 "metadata": {
  "application/vnd.databricks.v1+notebook": {
   "dashboards": [],
   "language": "python",
   "notebookMetadata": {
    "pythonIndentUnit": 2
   },
   "notebookName": "Working with data in Azure Databricks",
   "notebookOrigID": 1870147059846874,
   "widgets": {}
  },
  "kernelspec": {
   "display_name": "Python 3 (ipykernel)",
   "language": "python",
   "name": "python3"
  },
  "language_info": {
   "codemirror_mode": {
    "name": "ipython",
    "version": 3
   },
   "file_extension": ".py",
   "mimetype": "text/x-python",
   "name": "python",
   "nbconvert_exporter": "python",
   "pygments_lexer": "ipython3",
   "version": "3.9.7"
  }
 },
 "nbformat": 4,
 "nbformat_minor": 4
}
